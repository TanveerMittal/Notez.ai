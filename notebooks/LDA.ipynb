{
 "cells": [
  {
   "cell_type": "code",
   "execution_count": 54,
   "id": "structural-klein",
   "metadata": {},
   "outputs": [
    {
     "name": "stderr",
     "output_type": "stream",
     "text": [
      "[nltk_data] Downloading package stopwords to\n",
      "[nltk_data]     C:\\Users\\tanve\\AppData\\Roaming\\nltk_data...\n",
      "[nltk_data]   Package stopwords is already up-to-date!\n",
      "[nltk_data] Downloading package wordnet to\n",
      "[nltk_data]     C:\\Users\\tanve\\AppData\\Roaming\\nltk_data...\n",
      "[nltk_data]   Package wordnet is already up-to-date!\n"
     ]
    }
   ],
   "source": [
    "import re\n",
    "import gensim\n",
    "import numpy as np\n",
    "from gensim.utils import simple_preprocess\n",
    "from gensim.parsing.preprocessing import STOPWORDS\n",
    "from nltk.stem import WordNetLemmatizer, SnowballStemmer\n",
    "from nltk.tokenize import word_tokenize, sent_tokenize\n",
    "from nltk.stem.porter import *\n",
    "from nltk.corpus import stopwords\n",
    "import nltk\n",
    "nltk.download('stopwords')\n",
    "nltk.download('wordnet')\n",
    "from gensim import corpora, models\n",
    "from pprint import pprint\n",
    "from collections import Counter\n",
    "from collections import defaultdict"
   ]
  },
  {
   "cell_type": "code",
   "execution_count": 12,
   "id": "demonstrated-brazil",
   "metadata": {},
   "outputs": [
    {
     "name": "stderr",
     "output_type": "stream",
     "text": [
      "[nltk_data] Downloading package stopwords to\n",
      "[nltk_data]     C:\\Users\\tanve\\AppData\\Roaming\\nltk_data...\n",
      "[nltk_data]   Package stopwords is already up-to-date!\n",
      "[nltk_data] Downloading package wordnet to\n",
      "[nltk_data]     C:\\Users\\tanve\\AppData\\Roaming\\nltk_data...\n",
      "[nltk_data]   Package wordnet is already up-to-date!\n"
     ]
    }
   ],
   "source": [
    "import os\n",
    "os.chdir(\"..\")\n",
    "from question_generation.pipelines import pipeline"
   ]
  },
  {
   "cell_type": "code",
   "execution_count": 2,
   "id": "inappropriate-optimum",
   "metadata": {},
   "outputs": [],
   "source": [
    "stemmer = SnowballStemmer('english')\n",
    "def lemmatize_stemming(text):\n",
    "    '''Lemmatizes and stems input word'''\n",
    "    return stemmer.stem(WordNetLemmatizer().lemmatize(text, pos='v'))\n",
    "def preprocess(text):\n",
    "    \"\"\"Lemmatizes and stems all input texts\"\"\"\n",
    "    result = []\n",
    "    for token in gensim.utils.simple_preprocess(text):\n",
    "        if token not in gensim.parsing.preprocessing.STOPWORDS and len(token) > 3:\n",
    "            result.append(lemmatize_stemming(token))\n",
    "    return result"
   ]
  },
  {
   "cell_type": "code",
   "execution_count": 4,
   "id": "joint-membership",
   "metadata": {},
   "outputs": [],
   "source": [
    "with open(\"data/econ3_8.txt\") as f:\n",
    "    doc1 = f.read().strip()\n",
    "#words = doc.split(' ')\n",
    "#processed_doc = preprocess(doc)"
   ]
  },
  {
   "cell_type": "code",
   "execution_count": 5,
   "id": "patent-offering",
   "metadata": {},
   "outputs": [],
   "source": [
    "with open(\"data/econ3_7.txt\") as f:\n",
    "    doc2 = f.read().strip()\n",
    "#words = doc.split(' ')\n",
    "#processed_doc = preprocess(doc)"
   ]
  },
  {
   "cell_type": "code",
   "execution_count": null,
   "id": "textile-desktop",
   "metadata": {},
   "outputs": [],
   "source": [
    "dictionary = gensim.corpora.Dictionary(processed_doc)"
   ]
  },
  {
   "cell_type": "code",
   "execution_count": null,
   "id": "choice-cooler",
   "metadata": {},
   "outputs": [],
   "source": [
    "doc.split(\".\")"
   ]
  },
  {
   "cell_type": "code",
   "execution_count": null,
   "id": "silent-deputy",
   "metadata": {},
   "outputs": [],
   "source": [
    "sentences = []\n",
    "curr = None\n",
    "for sent in doc.split(\".\"):\n",
    "    if re.search(r\"([:])\", sent):\n",
    "        if curr is not None:\n",
    "            sentences.append(curr)\n",
    "        curr = sent\n",
    "    else:\n",
    "        curr += \".\"+sent\n",
    "sentences"
   ]
  },
  {
   "cell_type": "code",
   "execution_count": 17,
   "id": "passing-florence",
   "metadata": {},
   "outputs": [],
   "source": [
    "# TODO filter meaningless sentences\n",
    "def get_teacher_text(doc):\n",
    "    \"Extracts text spoken by teacher\"\n",
    "    matches = re.findall(r\"(?:(?:[A-Z][a-z]*\\s)*(?:[A-Z][a-z]*)):\", doc)\n",
    "    splits = re.split(r\"(?:(?:[A-Z][a-z]*\\s)*(?:[A-Z][a-z]*)):\", doc)[1:]\n",
    "    teacher = Counter(matches).most_common(1)[0][0]\n",
    "    return ''.join([splits[i] for i in range(len(splits)) if matches[i] == teacher])\n",
    "def get_sents(doc):\n",
    "    return [sent for sent in sent_tokenize(doc)]\n",
    "def get_filtered_sents(doc):\n",
    "    return [sent for sent in sent_tokenize(doc) if len(re.findall(r\"\\s\", sent)) > 10]"
   ]
  },
  {
   "cell_type": "code",
   "execution_count": 22,
   "id": "polished-aquarium",
   "metadata": {},
   "outputs": [],
   "source": [
    "sents = get_sents(get_teacher_text(doc1))\n",
    "filtered_sents = get_filtered_sents(get_teacher_text(doc1))"
   ]
  },
  {
   "cell_type": "code",
   "execution_count": 47,
   "id": "included-eight",
   "metadata": {},
   "outputs": [
    {
     "data": {
      "text/plain": [
       "<gensim.models.ldamulticore.LdaMulticore at 0x1f2df98c488>"
      ]
     },
     "execution_count": 47,
     "metadata": {},
     "output_type": "execute_result"
    }
   ],
   "source": [
    "stop_words = stopwords.words('english')\n",
    "#stop_words.extend(['from', 'subject', 're', 'edu', 'use'])\n",
    "def sent_to_words(sentences):\n",
    "    for sentence in sentences:\n",
    "        # deacc=True removes punctuations\n",
    "        yield(gensim.utils.simple_preprocess(str(sentence), deacc=True))\n",
    "def remove_stopwords(texts):\n",
    "    return [[word for word in simple_preprocess(str(doc)) \n",
    "             if word not in stop_words] for doc in texts]\n",
    "\n",
    "data_words = list(sent_to_words(filtered_sents))\n",
    "# remove stop words\n",
    "data_words = remove_stopwords(data_words)\n",
    "\n",
    "id2word = corpora.Dictionary(data_words)\n",
    "# Create Corpus\n",
    "texts = data_words\n",
    "# Term Document Frequency\n",
    "corpus = [id2word.doc2bow(text) for text in texts]\n",
    "\n",
    "num_topics = 5\n",
    "\n",
    "lda_model = gensim.models.LdaMulticore(corpus=corpus,\n",
    "                                       id2word=id2word,\n",
    "                                       num_topics=num_topics)\n",
    "lda_model"
   ]
  },
  {
   "cell_type": "code",
   "execution_count": 48,
   "id": "early-nightmare",
   "metadata": {
    "scrolled": true
   },
   "outputs": [
    {
     "name": "stdout",
     "output_type": "stream",
     "text": [
      "[(0,\n",
      "  '0.046*\"growth\" + 0.034*\"okay\" + 0.020*\"rate\" + 0.019*\"know\" + 0.018*\"going\" '\n",
      "  '+ 0.012*\"one\" + 0.011*\"average\" + 0.011*\"really\" + 0.011*\"per\" + '\n",
      "  '0.010*\"gdp\"'),\n",
      " (1,\n",
      "  '0.028*\"one\" + 0.024*\"growth\" + 0.016*\"know\" + 0.016*\"going\" + '\n",
      "  '0.015*\"average\" + 0.014*\"right\" + 0.013*\"years\" + 0.012*\"take\" + '\n",
      "  '0.011*\"rate\" + 0.010*\"would\"'),\n",
      " (2,\n",
      "  '0.023*\"growth\" + 0.017*\"let\" + 0.013*\"gdp\" + 0.013*\"per\" + 0.012*\"capita\" + '\n",
      "  '0.011*\"see\" + 0.010*\"living\" + 0.010*\"average\" + 0.009*\"rate\" + '\n",
      "  '0.009*\"things\"'),\n",
      " (3,\n",
      "  '0.018*\"per\" + 0.017*\"gdp\" + 0.016*\"year\" + 0.014*\"one\" + 0.012*\"capita\" + '\n",
      "  '0.011*\"average\" + 0.011*\"years\" + 0.010*\"going\" + 0.009*\"take\" + '\n",
      "  '0.009*\"see\"'),\n",
      " (4,\n",
      "  '0.019*\"per\" + 0.018*\"much\" + 0.013*\"gdp\" + 0.012*\"get\" + 0.011*\"know\" + '\n",
      "  '0.011*\"right\" + 0.011*\"one\" + 0.011*\"time\" + 0.011*\"china\" + '\n",
      "  '0.010*\"capita\"')]\n"
     ]
    }
   ],
   "source": [
    "pprint(lda_model.print_topics())\n",
    "doc_lda = lda_model[corpus]"
   ]
  },
  {
   "cell_type": "code",
   "execution_count": 89,
   "id": "indoor-archives",
   "metadata": {},
   "outputs": [
    {
     "data": {
      "text/plain": [
       "defaultdict(str,\n",
       "            {0: 'Looks like I feel Im only hiding my tiredness behind my makeup. I said oh if I didnt have that conference I need to go to later in Catholic I would have canceled today. Okay so so it might be just because what we were just fielding all these emails this issue and that. Obviously the essay questions have been answered but the the Mean was not as high as usual we think its just because of all the stuff going on so that it no promises but that likely is likely to meet a Generous curb. I think pertaining to this but hopefully you figured out you didnt need to know that for the midterm. Okay so most macro series grow at what we call compound rates. Now closely related concepts are what are called geometric growth an exponential growth. In fact were going to use some approximations from exponential growth to talk about compound growth. So if the growth rate is 4% and you write it as a equals point 04 Okay so in year one. In fact We can say in general if we want to know what output is in your team. Okay so its a really useful formula for saying Okay if they have 4% growth and if they start out at this certain amount. Okay so then the cap t would be 10 and we would raise 1.04 to 10 Right so Obviously Im always thinking about 10 what heres an example. Okay so well increased almost 50% Okay now suppose I tell you okay Im going to think about it the reverse. Because a lot of times this is really useful to be able to answer this question. It was on The practice thing if you got that question. So in this case youre starting with 1000 You know that theres some one plus this growth rate that were trying to solve for to the 20 because 20 years has gone by. And thats going to be equal to 3207 So you need to solve for A. Okay and then whatever that number is subtract one and thats the A that youll get. And if you do that youll see youll get an 8.06 Which means 6% average annual growth. And if youre using what you have programmable calculate you know so far youve been able to use that. If average annual growth were really 11% per year output would have been 8000 rather than 3207. You can imagine a math savvy politician claiming that during their administration average annual growth was much higher than it would be when you if you calculated it the compound way. And if you look at growth rates than its the sum and Ill show you that a little bit on an FYI mathematical thing but its really really useful to have this because you can just calculate things in your head. Now suppose instead a is equal to be divided by see so as the ratio of B to C. Will just as when things are multiplied the growth rates were the the some of the the growth rates of each of them when things are divided the growth rate of A is approximately equal to the growth rate of B minus the growth rate of C. So ratios. So this one has a geometric growth rate of G. Some be this growth rate is G subsea. This ones growth rate of chiefs of deep Well if we then write a of t equals to all of these things a product of all of these things. And if you remember your exponential things These growth rates add in the exponent. So which therefore has a growth rate of the some of the growth rates. What is the growth rate of GDP per capita and remember that this means per person. So that is why its 4% Not 3% Okay cuz somebody other people were Doing the division. Okay so I had my pull up who gave that really good answer was that week. All right so So you can see you know now off the top of your head. Okay second problem if real GDP grows 3% per year and the inflation rate and consider that to be using the deflator The GDP deflator remember Okay its 5% per year. Times the price level okay or Actually you dont even need to rewrite it so That means that The growth rate. Okay and what do we call the growth rate of price level. If somebody tells you Oh inflation is this nominal GDP was that what was the real loves the growth rate a real gap. Why am I not Somehow I dont have this is just okay Im just going to do this for you because I see that I didnt do a poll for it. Okay so heres a table that compares 1872 2010 And this is a 1990 international dollars and you know as usual you dont have to remember that the actual numbers but just think of this as almost like an index of their real output comparing it across countries and across time. Okay so in 1870 In 1870 The UK was one of the wealthiest countries in the world in terms of the major countries. You know so so you would have these rises but then kind of go down and then you know another this is a little uptick with Portugal because of what was going on in the new world but then that started going down. The citizens of the Roman Empire you know 2000 years ago were better off than the Europeans in the dark ages which came you know later right so growth wasnt always system so sustained even if you had higher higher living standards at one point in time your society might go backwards. We call it growth is compound I geometric growth or exponential growth. Suppose we have two countries country a country be and they start with the same per capita GDP say $1000 Suppose it over the next 100 years on average country has 2% growth and country be has 4% growth. Okay lets calculate where each of those countries will end up at the end of 100 years. Remember theyre starting off at the same GDP per capita so country has 1000 And thats going to compound on average 2% per year. So were going to take 1.02 to the 100 And that means 100 years hence it will end up with GDP per capita of a little bit over 7000 Country be will take that same 1000 but its going to have average annual growth of 4% How will it do its going to end up with GDP per capita of 50000 more than seven times the other country because on average its growth was higher. This is why countries really sweat 3% like for the US 3% growth versus 2% growth. Okay so Im in the poll you only have to answer for China. This is in purchasing power parity 19 $90 China in 1980 versus 2010 in India in 1980 versus 2010 so go ahead and see if you can figure out what the average annual growth rate of China actually was between 1980 and 2010 Okay. 54321 Okay this is good because this is you have to do that exponential nation. But but thats one that you could probably Google and find the answer to because that Yeah thats a really I should know that. Can do their dividing The day after the midterm were all tired. Think about what those what that number means And you imagine. And I know youre at least a third of the students in this classroom in China right now so they they Know about this. So this is this is from last January it was very current when Get all hadnt been affected so much by then or at least didnt know they had so Chinas slowing growth underlying stress facing its economy and 2020 On Friday Chinese officials said the country emerged from with an official economic growth rate of 6.1% Well within the governments target range of 6% to 6.5% but the lowest level nearly three decades. Last years growth rate however was well below Chinas 9.5% average Annual expansion between 1978 and 2017 notice thats it. So it was even large over that whole period according to the state regime was news agency. So what Im going to talk about here is not in the textbook. Okay so were going to talk about the marginal product of labor and the average labor productivity. Okay you get the marginal product of that workers pretty high because without them. This graph on the horizontal axis has labor input for example that could be the number of workers or it could be the number of hours. Now the marginal product of labor is greater at point A than it is at point B. Okay so thats how you can remember that its concave All right. ',\n",
       "             3: 'You know Im going to think Im Im going to see if I can miss a second conference so that after the second mid term we dont have to Its so much more exhausting than an actual midterm at least for us is it for you guys. So was this down to the number of different things that happened last night. So two students who were in a dorm on campus had to evacuate because of a fire alarm. Theres some parts in here that also apply to chapter 18 and usually I teach both in this part. For the first midterm because it applies to chapter 18 and 19 but we didnt get to it. So thats why it wasnt on the midterm and I accidentally left some discussion questions. So examples of series exhibiting these are the GDP the price level stock prices population. And so yeah were going to make it be output real GDP. So Im sure youve all seen compounding of the interest rates before. Well you can see that the way we could do that is simply take that initial output multiply it by one plus a phrase that growth rate squared. So in this case we would take 200 times 1.04 squared to get that same number right now that second way of doing it is useful because we dont have to go step by step through every year. Then we can take your t minus one times one plus A or we can go all the way back to whatever year we want to start this is year zero however many years distance And multiply that times one plus point oh four to the power team captain. No theres no way you had that on the midterm we check that over and over again. And if you use second before you use why the x it means its why to the one over x. So were looking at this problem here where we have 3207 verses 1000 so if you do the percent change. But if you were trying to calculate the average annual one by dividing by the number of years it would imply 11% per year. Supposed to a is equal to be time see times d. And at each series say is growing the time although it could also be decreasing. So again you do not need to know this but Ive just proved to you that it holds exactly for exponential for the other cases where were not compounding continuously but instead say every year. What was GDP per capita you can do that in your head. You can do it in the opposite way or in the way we did it with this question. So in this case youre going to need to take a to Use a calculator that has exponentially ation. And why it is that weve experienced this and why it is that some countries have been left out. So for example her husband Prince Albert died of typhoid right when he was relatively young and she wore Black. Heres GDP per capita in some selected European economies from 1300 to 1800 is a three year average. And there was you know there was of course the amazing flourishing of art and and those sorts of things that we still have with us and theyre estimated GDP per capita didnt go up some But notice it fell back down here and just kind of good. They took 8032 divided by 1039 Were talking about 30 years here. But you can see the big difference at the end of those 30 years All right another really useful approximation. The rule of 72 and sometimes youll see it as the rule of 70. Alright so Suppose the GDP per capita of a country grows at 3% per year on average than GDP per capita will double in. According to this rule we take 72 thats always in the numerator and we divide by three because we want it in the percent terms and that is equal to 24 years So that means it takes 24 years To double And its approximate So this is another really useful approximation so that you can just do things in your head without having to do a bunch of exponential creation. How many years did it take for Chinas real GDP per capita to double. Can you imagine living in a society where on average your household income. As Larry Summers who was the Treasury Secretary when he gave me he said when they write the history of the 20th century sure. But one of the biggest stories about the 20th century has got to be the rise in China. Never before in the history of man man and womankind have so many people been lifted out of poverty into a middle class or even you know wealthy existence. Major government policy for this year includes finalizing a decade long push to double income levels and they mean GDP per capita and the size of the economy. So the Chinese government really cares about numbers like how they double income levels how long it takes. But I think its really important for For giving you perspective so that you dont take growth for granted. Okay so first were going to fill in a few necessary tools including some material you studied in Chapter 13 of Econ one so itll get those cobwebs out from there. They dont come to the ice cream shop and so therefore you cant make a sale if you add a second worker. Right recall from Chapter 16 that average labor product ALP is equal to total output divided by the number of workers or if you want to count up hours per worker it could be total output divided by the number of hours worked. ',\n",
       "             2: 'Yeah so its probably it might have been less exhausting for you guys because Youre in the quiet of your own place instead of a big room. I didnt feel like anybody felt like they were required to come they hadnt gotten out of bed yet. It was near UC Santa Cruz and Luckily it came back up in time but It was great. Alright so we are starting chapter 19 And one of the first things were going to do is talk about compound growth because thats such an important part of thinking about how standards of living increase over time. Over a certain amount of time now actual growth will vary from year to year but its nice to have an average. So lets let little A underline this OK this little A here in bold be the growth rate not in percent. It turns out that if we care about the growth rate of a It is approximately equal to the sum of the growth rates of all the things in the product. See why this whole Do the FYI for the math types. So lets do a practice problem and I have a poll Lets see. Lets see 3% Or does anybody want to tell me why they chose 4% exactly perfectly explained GDP per capita. What is the growth rate of nominal GDP and let me start that poll Is so weird how the pole will come up unless its hiding somewhere. And so thats why we do this calculation of average annual kind of thing. Why is it that some countries are growing so much faster than other countries or have higher standards of living. Do us was second in terms of this chart and these countries here Japan was only only 737 per capita China 530 India 530 300 439 Per capita GDP and 19 $90 the UK was still doing quite well. But one of the really amazing things is Japan that started so far behind ended up with GDP per capita. So in many ways a low income person in the US today. Alright so There were long long periods of stagnation and by some measures. But if it keeps going on and on that lower average annual growth will affect your standard of living in significant ways going forward. So heres a practice problem and I have a couple for that. So that was 7.1% if you do the same thing for India you can calculate this on your own to check the answer if you do the same thing for India you get a 4.4% So China was growing at amazing 7.1% on average each year. And thats how they increase their GDP per capita by eight times over this 30 year period India increases GDP per capita but not as rapidly. This is the number of years it takes for the level of a geometrically growing variable to double. And thats approximately 72 divided by the annual percentage growth of the variable stated in percent terms. While lifting living standards for remaining 5 million people still considered severely impoverished. Okay first lets do a quick review of those econ one concepts. But suppose that there are quite a few lines that if people see lines. There at point A that tells us if we add this much labor. If you guys still do that school same here at be but notice You get less of an increase in output for a given increase in labor. ',\n",
       "             1: 'There are some advantages other than worrying about the technical stuff to being able to take exams online. Ill situate one during an online exam because theres so much drama. Okay so the first tool is how to calculate average annual company growth rates. The 200 and we have 4% growth than by your one were going to have 200 times one plus point 04 to get 208 Alright so thats how much you grew How about your to well we can just take the value that we found from your one we compound that meaning we multiply it by 1.04 And that gives us Twitter and 16.32 alright so its just you can see just doing it step by step by step but we suppose that I gave you the 200 and year zero and said Tell me what the value going to be for output in your in your two. We multiply this out twice first here then that why one already has that one plus A in it. All right so Ill put in your 10 is equal to 200 times 1.04 to the 10th and thats equal to 296.05 so if you have 10 years where growth is 4% per year. And if you start at 200 youll end up at almost 310 years from now. Suppose I tell you that output why it which is the same thing is real GDP started out in year zero at 1020 years later it was 3207 What if I asked you what average annual compound growth rate must if it had experienced on average each year to be able to go from 1000 to 3207 There shouldnt have been a question like this on the midterm. Lets do the next algebraic step were going to take one plus a To the Equals 3207 Over 1000. Yes we have to take the one 20th power of both sides. So thats just a one there equals 3207 Over 1000 To the one 20th. Alright so Suppose you calculate the total percent change and divide by the number of years. This is not required but but a lot of plenty of people know about exponential growth. So the relationship that I said on the previous page was an approximation. All right because they are ratio we know the growth of GDP per capita is going to be approximately equal to the growth rate the numerator minus the growth rate the denominator. So that is why this is equal to 3% plus 5% Equals 8% So again this gives you a tool to in your head. Alright practice problem three heres heres a two step or if the CPI is 1.5 and 2008 and 1.83 and What was the average annual inflation rate between 2008 and 2018. Alright so we have 1.5 that were starting with With the CPI and were going to figure out on average what was the average annual inflation rate over those 10 years. Thats why I have 10 its from 2008 to 2018 and we know that That CPI is going to end up at 1.83 Will take one plus A to the 10 equals 1.83 divided by 1.5 and one plus A equals 1.83 over 1.5 to the one over 10 and solve For a which is going to be 0.02 which implies 2% Okay average annual inflation. Because what we had done on fate given what you knew on the mid term we would say what was the inflation rate over this five year period or something you would just calculate the percent change over the whole period. That was that question questions before I close this and start the Chapter 19 Alright so What were trying to understand in this chapter is through remarkable rice and living standards. And we want to understand why it is that different countries have different growth experiences. Now growth wasnt always so staying so sustain and you should never take growth for granted. So for a lot of countries and this is the 1300 to 1800. And there wasnt much happening now Holland did manage to go up and kind of stayed on an upward trend which was unusual and then England was the other one. But what looked like oh one had 2% growth one had 4% growth. Why does this work you know theres a reason but i i dont recall offhand. The answer yes is 10 years Since thats approximately 72 over 7.1 Right. I mean its So rapid and it happened on average to so many people. Alright so China has you know over a billion people 1.4 now. And were going to talk about some of the details of that little bit later in this chapter with some of the stuff that Im going to supplement Now oh actually heres some current events. And thats why that rule of 72 is such a useful thing because In many governments you know a lot of people a lot of the politicians probably cant do a lot of exponential nation. So if everybody understands the rule of 72 then that makes it easier to talk about this. All right so why do nations become rich So a couple hundred years ago it was not so obvious that countries could increase their living standards much I showed you that graph before that showed you know Italy had its little blip in the Renaissance but then kind of went back down. So there was a very famous English economist known as Thomas Malthus and in a book he wrote in 1798 He argued that population growth would lead simply to more misery. Now youve heard about the law of diminishing returns right he called one you know about diminishing returns because of the law of diminishing returns the marginal product of labor. All right so if you when you add suppose youre at the ice cream shop. Im now going to show how marginal product labor relates to the average labor productivity which thats what the book costs of the ALP I would call it. As labor input rises meaning as you add more workers or as you add more hours of work output also rises. Okay its positive but at each level its going up less We can represent that with this graph. I know that sometimes the transcription of the thing doesnt transcribed correctly so I can imagine in number. ',\n",
       "             4: 'Okay so lets go ahead and get started and I hope that everybody I guess you guys survived the exam because youre here this morning so We we looked at some of the score. So these are just some useful tools that will start with and then well start the formal chapter 19 right after this. And this is useful because often we want to summary statistic of one of the examples well talk about is China how much has been growing on average per year. It was on a review discussion section or one of those questions and I forgotten to take it off of there. So its very easy to calculate on it on a simple scientific notation calculator. OK. OK. Now the reason we have to do this with exponent is that you would get quite in most cases a very wrong answer. Minus one you would get the answer of a 220.7% increase over 20 years so thats thats accurate. And lets suppose that variable a is simply the product A B C and D. So its a is equal to be time seat time Steve writes the product. So you know once we start doing continuous time we write everything as a function of time. So if GDP grows by 6% per year and population grows by 2% per year. Nobody was answering 4321 All right we havent neck and neck between 3% and 4% Does anybody want to tell me why they chose. You dont have to You know sit down and work it out with paper and pen. However its just much more useful to just put everything on an average annual basis because that way you can compare across countries you can compare across episodes with different numbers of years in there. Some but not as much as China and Ghana group but not as much even as India. What does that mean okay it means We know that real GDP doesnt perfectly capture standards of living but we know that theres a lot of correlation between real GDP per capita. Black morning for something like 60 years because she lived forever you know And today it would be so easy to cure that even if you were relatively poor right society would would have the medicine to help cure you. So its a tremendous increase in living standards you know a poor person today in the US wouldnt be living in Buckingham Palace but they would have Access to so much else that people couldnt even dream of in the 1800s or they might have dreamed of it but knew that they didnt have it. This means that small differences in average annual growth rates lead to large differences in GDP per capita over time. How could that possibly be so much different after 100 years in terms of the level. Um but 70% of the people got the right answer because what they did was for China. Im skipping those steps of algebra and then you subtract one and you get A point oh seven one which implies approximately 7.1% for China. Of GDP per capita in China was 7.1% we figured that out a couple slides ago. Now I think it is yeah from where they stood in 2010 including the now chief threshold of $10000 per capita annual income. A workers marginal product is the extra output produced by adding the worker to your company say or to the field. Declines in the short run as the quantity of labor workers or hours or whatever employed rises. They will increase your sales but they will increase them as much extra as that first worker did so its that same kind of marginal product. What do I call it a PL book called the ALP so I will call it that. That means you have a positive marginal product of labor right adding more workers we assume increases output. This is called a production function right which tells you how much output you get first certain level of inputs here the input were focusing on is labor and if theyre using any other inputs like capital were holding those constant as we go along this craft. I mean depends on how far we get an 11 and then well move on to the other part. '})"
      ]
     },
     "execution_count": 89,
     "metadata": {},
     "output_type": "execute_result"
    }
   ],
   "source": [
    "clusters = defaultdict(str)\n",
    "labels = lda_model.inference(corpus)[0].argmax(axis=1)\n",
    "for i in range(len(filtered_sents)):\n",
    "    clusters[labels[i]] += filtered_sents[i] + \" \"\n",
    "for topic in clusters:\n",
    "    clusters[topic] = re.sub(r\"\\s+\", \" \", clusters[topic])\n",
    "    clusters[topic] = re.sub(r\"[',]\", \"\", clusters[topic])\n",
    "clusters"
   ]
  },
  {
   "cell_type": "code",
   "execution_count": null,
   "id": "designed-sugar",
   "metadata": {},
   "outputs": [
    {
     "name": "stdout",
     "output_type": "stream",
     "text": [
      "0\n",
      "[{'answer': 'hiding my tiredness behind my makeup', 'question': \"What do I feel like I'm only hiding behind my makeup?\"}]\n",
      "[{'answer': 'canceled', 'question': 'What would happen if I didnt have a conference in Catholic?'}]\n",
      "[{'answer': 'fielding all these emails', 'question': 'What was the reason for this issue?'}]\n"
     ]
    }
   ],
   "source": [
    "for topic in clusters:\n",
    "    print(topic)\n",
    "    for sent in get_sents(clusters[topic]):\n",
    "        try:\n",
    "            print(nlp(sent))\n",
    "        except:\n",
    "            print(sent)\n",
    "            continue\n",
    "    print()"
   ]
  },
  {
   "cell_type": "code",
   "execution_count": 96,
   "id": "legendary-holiday",
   "metadata": {},
   "outputs": [
    {
     "ename": "ValueError",
     "evalue": "substring not found",
     "output_type": "error",
     "traceback": [
      "\u001b[1;31m---------------------------------------------------------------------------\u001b[0m",
      "\u001b[1;31mValueError\u001b[0m                                Traceback (most recent call last)",
      "\u001b[1;32m<ipython-input-96-e9fb8b4bbc71>\u001b[0m in \u001b[0;36m<module>\u001b[1;34m\u001b[0m\n\u001b[1;32m----> 1\u001b[1;33m \u001b[0mnlp\u001b[0m\u001b[1;33m(\u001b[0m\u001b[1;34m\"Supposed to a is equal to be time see times d. And at each series say is growing the time although it could also be decreasing.\"\u001b[0m\u001b[1;33m)\u001b[0m\u001b[1;33m\u001b[0m\u001b[1;33m\u001b[0m\u001b[0m\n\u001b[0m",
      "\u001b[1;32m~\\Documents\\SDHacks2021\\question_generation\\pipelines.py\u001b[0m in \u001b[0;36m__call__\u001b[1;34m(self, inputs)\u001b[0m\n\u001b[0;32m    173\u001b[0m         \u001b[1;32mif\u001b[0m \u001b[0mtype\u001b[0m\u001b[1;33m(\u001b[0m\u001b[0minputs\u001b[0m\u001b[1;33m)\u001b[0m \u001b[1;32mis\u001b[0m \u001b[0mstr\u001b[0m\u001b[1;33m:\u001b[0m\u001b[1;33m\u001b[0m\u001b[1;33m\u001b[0m\u001b[0m\n\u001b[0;32m    174\u001b[0m             \u001b[1;31m# do qg\u001b[0m\u001b[1;33m\u001b[0m\u001b[1;33m\u001b[0m\u001b[1;33m\u001b[0m\u001b[0m\n\u001b[1;32m--> 175\u001b[1;33m             \u001b[1;32mreturn\u001b[0m \u001b[0msuper\u001b[0m\u001b[1;33m(\u001b[0m\u001b[1;33m)\u001b[0m\u001b[1;33m.\u001b[0m\u001b[0m__call__\u001b[0m\u001b[1;33m(\u001b[0m\u001b[0minputs\u001b[0m\u001b[1;33m)\u001b[0m\u001b[1;33m\u001b[0m\u001b[1;33m\u001b[0m\u001b[0m\n\u001b[0m\u001b[0;32m    176\u001b[0m         \u001b[1;32melse\u001b[0m\u001b[1;33m:\u001b[0m\u001b[1;33m\u001b[0m\u001b[1;33m\u001b[0m\u001b[0m\n\u001b[0;32m    177\u001b[0m             \u001b[1;31m# do qa\u001b[0m\u001b[1;33m\u001b[0m\u001b[1;33m\u001b[0m\u001b[1;33m\u001b[0m\u001b[0m\n",
      "\u001b[1;32m~\\Documents\\SDHacks2021\\question_generation\\pipelines.py\u001b[0m in \u001b[0;36m__call__\u001b[1;34m(self, inputs)\u001b[0m\n\u001b[0;32m     58\u001b[0m             \u001b[0mqg_examples\u001b[0m \u001b[1;33m=\u001b[0m \u001b[0mself\u001b[0m\u001b[1;33m.\u001b[0m\u001b[0m_prepare_inputs_for_qg_from_answers_prepend\u001b[0m\u001b[1;33m(\u001b[0m\u001b[0minputs\u001b[0m\u001b[1;33m,\u001b[0m \u001b[0manswers\u001b[0m\u001b[1;33m)\u001b[0m\u001b[1;33m\u001b[0m\u001b[1;33m\u001b[0m\u001b[0m\n\u001b[0;32m     59\u001b[0m         \u001b[1;32melse\u001b[0m\u001b[1;33m:\u001b[0m\u001b[1;33m\u001b[0m\u001b[1;33m\u001b[0m\u001b[0m\n\u001b[1;32m---> 60\u001b[1;33m             \u001b[0mqg_examples\u001b[0m \u001b[1;33m=\u001b[0m \u001b[0mself\u001b[0m\u001b[1;33m.\u001b[0m\u001b[0m_prepare_inputs_for_qg_from_answers_hl\u001b[0m\u001b[1;33m(\u001b[0m\u001b[0msents\u001b[0m\u001b[1;33m,\u001b[0m \u001b[0manswers\u001b[0m\u001b[1;33m)\u001b[0m\u001b[1;33m\u001b[0m\u001b[1;33m\u001b[0m\u001b[0m\n\u001b[0m\u001b[0;32m     61\u001b[0m \u001b[1;33m\u001b[0m\u001b[0m\n\u001b[0;32m     62\u001b[0m         \u001b[0mqg_inputs\u001b[0m \u001b[1;33m=\u001b[0m \u001b[1;33m[\u001b[0m\u001b[0mexample\u001b[0m\u001b[1;33m[\u001b[0m\u001b[1;34m'source_text'\u001b[0m\u001b[1;33m]\u001b[0m \u001b[1;32mfor\u001b[0m \u001b[0mexample\u001b[0m \u001b[1;32min\u001b[0m \u001b[0mqg_examples\u001b[0m\u001b[1;33m]\u001b[0m\u001b[1;33m\u001b[0m\u001b[1;33m\u001b[0m\u001b[0m\n",
      "\u001b[1;32m~\\Documents\\SDHacks2021\\question_generation\\pipelines.py\u001b[0m in \u001b[0;36m_prepare_inputs_for_qg_from_answers_hl\u001b[1;34m(self, sents, answers)\u001b[0m\n\u001b[0;32m    140\u001b[0m                 \u001b[0manswer_text\u001b[0m \u001b[1;33m=\u001b[0m \u001b[0manswer_text\u001b[0m\u001b[1;33m.\u001b[0m\u001b[0mstrip\u001b[0m\u001b[1;33m(\u001b[0m\u001b[1;33m)\u001b[0m\u001b[1;33m\u001b[0m\u001b[1;33m\u001b[0m\u001b[0m\n\u001b[0;32m    141\u001b[0m \u001b[1;33m\u001b[0m\u001b[0m\n\u001b[1;32m--> 142\u001b[1;33m                 \u001b[0mans_start_idx\u001b[0m \u001b[1;33m=\u001b[0m \u001b[0msent\u001b[0m\u001b[1;33m.\u001b[0m\u001b[0mindex\u001b[0m\u001b[1;33m(\u001b[0m\u001b[0manswer_text\u001b[0m\u001b[1;33m)\u001b[0m\u001b[1;33m\u001b[0m\u001b[1;33m\u001b[0m\u001b[0m\n\u001b[0m\u001b[0;32m    143\u001b[0m \u001b[1;33m\u001b[0m\u001b[0m\n\u001b[0;32m    144\u001b[0m                 \u001b[0msent\u001b[0m \u001b[1;33m=\u001b[0m \u001b[1;34mf\"{sent[:ans_start_idx]} <hl> {answer_text} <hl> {sent[ans_start_idx + len(answer_text): ]}\"\u001b[0m\u001b[1;33m\u001b[0m\u001b[1;33m\u001b[0m\u001b[0m\n",
      "\u001b[1;31mValueError\u001b[0m: substring not found"
     ]
    }
   ],
   "source": [
    "nlp(\"Supposed to a is equal to be time see times d. And at each series say is growing the time although it could also be decreasing.\")"
   ]
  },
  {
   "cell_type": "code",
   "execution_count": 27,
   "id": "particular-gambling",
   "metadata": {},
   "outputs": [
    {
     "data": {
      "text/plain": [
       "<gensim.interfaces.TransformedCorpus at 0x1f2db8803c8>"
      ]
     },
     "execution_count": 27,
     "metadata": {},
     "output_type": "execute_result"
    }
   ],
   "source": [
    "doc_lda"
   ]
  },
  {
   "cell_type": "code",
   "execution_count": 6,
   "id": "cubic-romantic",
   "metadata": {},
   "outputs": [
    {
     "data": {
      "application/vnd.jupyter.widget-view+json": {
       "model_id": "239ed432f7b34ac284a3c12ef2ae5008",
       "version_major": 2,
       "version_minor": 0
      },
      "text/plain": [
       "Downloading:   0%|          | 0.00/656 [00:00<?, ?B/s]"
      ]
     },
     "metadata": {},
     "output_type": "display_data"
    },
    {
     "data": {
      "application/vnd.jupyter.widget-view+json": {
       "model_id": "685fbc9b8dfa4e1aaa70a4639d0661ee",
       "version_major": 2,
       "version_minor": 0
      },
      "text/plain": [
       "Downloading:   0%|          | 0.00/792k [00:00<?, ?B/s]"
      ]
     },
     "metadata": {},
     "output_type": "display_data"
    },
    {
     "data": {
      "application/vnd.jupyter.widget-view+json": {
       "model_id": "9c2cdf0a1c8740089381019a5328c7a5",
       "version_major": 2,
       "version_minor": 0
      },
      "text/plain": [
       "Downloading:   0%|          | 0.00/31.0 [00:00<?, ?B/s]"
      ]
     },
     "metadata": {},
     "output_type": "display_data"
    },
    {
     "data": {
      "application/vnd.jupyter.widget-view+json": {
       "model_id": "dd6d43bbd2dc48a59f24a177b39b4a4f",
       "version_major": 2,
       "version_minor": 0
      },
      "text/plain": [
       "Downloading:   0%|          | 0.00/65.0 [00:00<?, ?B/s]"
      ]
     },
     "metadata": {},
     "output_type": "display_data"
    },
    {
     "data": {
      "application/vnd.jupyter.widget-view+json": {
       "model_id": "6c6a36d8080944c9b6638fb7f6eb9242",
       "version_major": 2,
       "version_minor": 0
      },
      "text/plain": [
       "Downloading:   0%|          | 0.00/90.0 [00:00<?, ?B/s]"
      ]
     },
     "metadata": {},
     "output_type": "display_data"
    },
    {
     "data": {
      "application/vnd.jupyter.widget-view+json": {
       "model_id": "47e3268cc1df47c4a983f6909ae90d35",
       "version_major": 2,
       "version_minor": 0
      },
      "text/plain": [
       "Downloading:   0%|          | 0.00/242M [00:00<?, ?B/s]"
      ]
     },
     "metadata": {},
     "output_type": "display_data"
    }
   ],
   "source": [
    "nlp = pipeline(\"multitask-qa-qg\")"
   ]
  },
  {
   "cell_type": "code",
   "execution_count": 21,
   "id": "specific-button",
   "metadata": {},
   "outputs": [
    {
     "data": {
      "text/plain": [
       "[{'answer': 'the number of hours worked',\n",
       "  'question': 'What is the total output divided by?'}]"
      ]
     },
     "execution_count": 21,
     "metadata": {},
     "output_type": "execute_result"
    }
   ],
   "source": [
    "nlp(\"Right recall from Chapter 16 that average labor product ALP is equal to total output divided by the number of workers or if you want to count up hours per worker, it could be total output divided by the number of hours worked.\")"
   ]
  },
  {
   "cell_type": "code",
   "execution_count": null,
   "id": "occasional-leadership",
   "metadata": {},
   "outputs": [],
   "source": []
  }
 ],
 "metadata": {
  "kernelspec": {
   "display_name": "Python 3",
   "language": "python",
   "name": "python3"
  },
  "language_info": {
   "codemirror_mode": {
    "name": "ipython",
    "version": 3
   },
   "file_extension": ".py",
   "mimetype": "text/x-python",
   "name": "python",
   "nbconvert_exporter": "python",
   "pygments_lexer": "ipython3",
   "version": "3.7.9"
  }
 },
 "nbformat": 4,
 "nbformat_minor": 5
}
