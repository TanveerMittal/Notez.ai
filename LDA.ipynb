{
 "cells": [
  {
   "cell_type": "code",
   "execution_count": null,
   "id": "demonstrated-brazil",
   "metadata": {},
   "outputs": [],
   "source": [
    "import re\n",
    "import gensim\n",
    "from gensim.utils import simple_preprocess\n",
    "from gensim.parsing.preprocessing import STOPWORDS\n",
    "from nltk.stem import WordNetLemmatizer, SnowballStemmer\n",
    "from nltk.stem.porter import *\n",
    "import numpy as np\n",
    "np.random.seed(2018)\n",
    "import nltk\n",
    "nltk.download('wordnet')\n",
    "from gensim import corpora, models\n",
    "from pprint import pprint\n",
    "from collections import Counter"
   ]
  },
  {
   "cell_type": "code",
   "execution_count": null,
   "id": "inappropriate-optimum",
   "metadata": {},
   "outputs": [],
   "source": [
    "stemmer = SnowballStemmer('english')\n",
    "def lemmatize_stemming(text):\n",
    "    '''Lemmatizes and stems input word'''\n",
    "    return stemmer.stem(WordNetLemmatizer().lemmatize(text, pos='v'))\n",
    "def preprocess(text):\n",
    "    \"\"\"Lemmatizes and stems all input texts\"\"\"\n",
    "    result = []\n",
    "    for token in gensim.utils.simple_preprocess(text):\n",
    "        if token not in gensim.parsing.preprocessing.STOPWORDS and len(token) > 3:\n",
    "            result.append(lemmatize_stemming(token))\n",
    "    return result"
   ]
  },
  {
   "cell_type": "code",
   "execution_count": null,
   "id": "joint-membership",
   "metadata": {},
   "outputs": [],
   "source": [
    "with open(\"data/econ3_8.txt\") as f:\n",
    "    doc1 = f.read().strip()\n",
    "words = doc.split(' ')\n",
    "processed_doc = preprocess(doc)"
   ]
  },
  {
   "cell_type": "code",
   "execution_count": null,
   "id": "patent-offering",
   "metadata": {},
   "outputs": [],
   "source": [
    "with open(\"data/econ3_7.txt\") as f:\n",
    "    doc2 = f.read().strip()\n",
    "words = doc.split(' ')\n",
    "processed_doc = preprocess(doc)"
   ]
  },
  {
   "cell_type": "code",
   "execution_count": null,
   "id": "textile-desktop",
   "metadata": {},
   "outputs": [],
   "source": [
    "dictionary = gensim.corpora.Dictionary(processed_doc)"
   ]
  },
  {
   "cell_type": "code",
   "execution_count": null,
   "id": "choice-cooler",
   "metadata": {},
   "outputs": [],
   "source": [
    "doc.split(\".\")"
   ]
  },
  {
   "cell_type": "code",
   "execution_count": null,
   "id": "silent-deputy",
   "metadata": {},
   "outputs": [],
   "source": [
    "sentences = []\n",
    "curr = None\n",
    "for sent in doc.split(\".\"):\n",
    "    if re.search(r\"([:])\", sent):\n",
    "        if curr is not None:\n",
    "            sentences.append(curr)\n",
    "        curr = sent\n",
    "    else:\n",
    "        curr += \".\"+sent\n",
    "sentences"
   ]
  },
  {
   "cell_type": "code",
   "execution_count": null,
   "id": "passing-florence",
   "metadata": {},
   "outputs": [],
   "source": [
    "# TODO filter meaningless sentences\n",
    "def get_sents(doc):\n",
    "    return doc.split(\".\")\n",
    "def get_teacher_sents(doc):\n",
    "    \"Get sentences spoken by teacher. Works for prefaced name format\"\n",
    "    matches = re.findall(r\"(?:(?:[A-Z][a-z]*\\s)*(?:[A-Z][a-z]*)):\", doc)\n",
    "    splits = re.split(r\"(?:(?:[A-Z][a-z]*\\s)*(?:[A-Z][a-z]*)):\", doc)[1:]\n",
    "    teacher = Counter(matches).most_common(1)[0][0]\n",
    "    return [splits[i] for i in range(len(splits)) if matches[i] == teacher]"
   ]
  },
  {
   "cell_type": "code",
   "execution_count": null,
   "id": "polished-aquarium",
   "metadata": {},
   "outputs": [],
   "source": [
    "get_teacher_sents(doc1)"
   ]
  },
  {
   "cell_type": "code",
   "execution_count": null,
   "id": "cosmetic-steal",
   "metadata": {},
   "outputs": [],
   "source": [
    "get_sents(doc2)"
   ]
  },
  {
   "cell_type": "code",
   "execution_count": null,
   "id": "included-eight",
   "metadata": {},
   "outputs": [],
   "source": []
  }
 ],
 "metadata": {
  "kernelspec": {
   "display_name": "Python 3",
   "language": "python",
   "name": "python3"
  },
  "language_info": {
   "codemirror_mode": {
    "name": "ipython",
    "version": 3
   },
   "file_extension": ".py",
   "mimetype": "text/x-python",
   "name": "python",
   "nbconvert_exporter": "python",
   "pygments_lexer": "ipython3",
   "version": "3.7.9"
  }
 },
 "nbformat": 4,
 "nbformat_minor": 5
}
